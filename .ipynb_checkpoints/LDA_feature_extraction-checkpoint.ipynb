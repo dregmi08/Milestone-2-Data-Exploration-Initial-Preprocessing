{
 "cells": [
  {
   "cell_type": "markdown",
   "metadata": {
    "colab": {
     "base_uri": "https://localhost:8080/"
    },
    "id": "73zH9-795GGp",
    "outputId": "d22982bf-23d2-44e6-c1a0-0180a0364d9c"
   },
   "source": [
    "# Project Overview\n",
    "## Dataset explanation: Spotify User Review Dataset\n",
    "Our initial dataset, after dropping irrelevant columns, will have 3 columns (before creating our own features). These features are: Review, Total_thumbsup, and Rating. The Review column contains a textual review that a user left, the Total_thumbsup column contains the number of \n",
    "thumbs up a review receives, and the rating contains the corresponding star rating that the user left on the app.\n",
    "\n",
    "## Project Overview/Breakdown\n",
    "Essentially, our project first classifies the reviews in the dataset into three categories: negative, positive, and neutral, and then takes all reviews classified as negative, and ranks the features from most important (the issue that users are complaining the most about) to least\n",
    "important. Our project has two models: one for classifying the sentiment, and one for ranking.\n",
    "\n",
    "## Things to note in regards to building our model/testing\n",
    "\n",
    "### Part 1\n",
    "The first model is pretty straightforward, we basically classified the reviews based on sentiment into good, positive, and neutral, and we verified our results by checking if a review that was classified as positive had 4-5 stars, checking if a review classified as neutral had 3 stars, and seeing if a review classified as negative had a 1-2 star rating. \n",
    "\n",
    "### Part 2\n",
    "Our second part (the ranking step) falls more into the category of unsupervised learning. What we decided to do was use Latent Dirichlet Allocation (LDA), which is a technique used for topic modeling to extract different topics amongst the reviews. Each topic has a corresponding sentiment score, and we got the top 10 positive topics (topics with the highest sentiment scores), and top 10 negative topics (topics with the lowest sentiment scores), and assigned descriptive labels to the negative topics (because we are concerned with ranking issues that users complain about). The topic with the lowest sentiment score was assigned the highest ranking, and the topic with the highest sentiment score among all negative topics was assigned the lowest ranking. The tricky part of this milestone was within testing\n",
    "the second part, since we had to go through our reviews and assign the negative reviews with the labels our own labels (we didn't really have a ground truth in the dataset that we could go off of, so we had to create it ourselves), so we used Hugging Face's zero-shot classifier to create a ground truth for us (we passed it the labels for the negative topics) and compared the rankings from this to the rankings our lda model came up with"
   ]
  },
  {
   "cell_type": "code",
   "execution_count": 62,
   "metadata": {
    "colab": {
     "base_uri": "https://localhost:8080/"
    },
    "id": "73zH9-795GGp",
    "outputId": "d22982bf-23d2-44e6-c1a0-0180a0364d9c"
   },
   "outputs": [
    {
     "name": "stderr",
     "output_type": "stream",
     "text": [
      "huggingface/tokenizers: The current process just got forked, after parallelism has already been used. Disabling parallelism to avoid deadlocks...\n",
      "To disable this warning, you can either:\n",
      "\t- Avoid using `tokenizers` before the fork if possible\n",
      "\t- Explicitly set the environment variable TOKENIZERS_PARALLELISM=(true | false)\n"
     ]
    },
    {
     "name": "stdout",
     "output_type": "stream",
     "text": [
      "Requirement already satisfied: pandas in /Library/Frameworks/Python.framework/Versions/3.12/lib/python3.12/site-packages (2.2.3)\n",
      "Requirement already satisfied: numpy>=1.26.0 in /Library/Frameworks/Python.framework/Versions/3.12/lib/python3.12/site-packages (from pandas) (2.0.2)\n",
      "Requirement already satisfied: python-dateutil>=2.8.2 in /Library/Frameworks/Python.framework/Versions/3.12/lib/python3.12/site-packages (from pandas) (2.9.0.post0)\n",
      "Requirement already satisfied: pytz>=2020.1 in /Library/Frameworks/Python.framework/Versions/3.12/lib/python3.12/site-packages (from pandas) (2024.2)\n",
      "Requirement already satisfied: tzdata>=2022.7 in /Library/Frameworks/Python.framework/Versions/3.12/lib/python3.12/site-packages (from pandas) (2024.2)\n",
      "Requirement already satisfied: six>=1.5 in /Library/Frameworks/Python.framework/Versions/3.12/lib/python3.12/site-packages (from python-dateutil>=2.8.2->pandas) (1.16.0)\n"
     ]
    },
    {
     "name": "stderr",
     "output_type": "stream",
     "text": [
      "huggingface/tokenizers: The current process just got forked, after parallelism has already been used. Disabling parallelism to avoid deadlocks...\n",
      "To disable this warning, you can either:\n",
      "\t- Avoid using `tokenizers` before the fork if possible\n",
      "\t- Explicitly set the environment variable TOKENIZERS_PARALLELISM=(true | false)\n"
     ]
    },
    {
     "name": "stdout",
     "output_type": "stream",
     "text": [
      "Requirement already satisfied: numpy in /Library/Frameworks/Python.framework/Versions/3.12/lib/python3.12/site-packages (2.0.2)\n"
     ]
    },
    {
     "name": "stderr",
     "output_type": "stream",
     "text": [
      "huggingface/tokenizers: The current process just got forked, after parallelism has already been used. Disabling parallelism to avoid deadlocks...\n",
      "To disable this warning, you can either:\n",
      "\t- Avoid using `tokenizers` before the fork if possible\n",
      "\t- Explicitly set the environment variable TOKENIZERS_PARALLELISM=(true | false)\n"
     ]
    },
    {
     "name": "stdout",
     "output_type": "stream",
     "text": [
      "Requirement already satisfied: matplotlib in /Library/Frameworks/Python.framework/Versions/3.12/lib/python3.12/site-packages (3.9.2)\n",
      "Requirement already satisfied: contourpy>=1.0.1 in /Library/Frameworks/Python.framework/Versions/3.12/lib/python3.12/site-packages (from matplotlib) (1.3.0)\n",
      "Requirement already satisfied: cycler>=0.10 in /Library/Frameworks/Python.framework/Versions/3.12/lib/python3.12/site-packages (from matplotlib) (0.12.1)\n",
      "Requirement already satisfied: fonttools>=4.22.0 in /Library/Frameworks/Python.framework/Versions/3.12/lib/python3.12/site-packages (from matplotlib) (4.54.1)\n",
      "Requirement already satisfied: kiwisolver>=1.3.1 in /Library/Frameworks/Python.framework/Versions/3.12/lib/python3.12/site-packages (from matplotlib) (1.4.7)\n",
      "Requirement already satisfied: numpy>=1.23 in /Library/Frameworks/Python.framework/Versions/3.12/lib/python3.12/site-packages (from matplotlib) (2.0.2)\n",
      "Requirement already satisfied: packaging>=20.0 in /Library/Frameworks/Python.framework/Versions/3.12/lib/python3.12/site-packages (from matplotlib) (24.1)\n",
      "Requirement already satisfied: pillow>=8 in /Library/Frameworks/Python.framework/Versions/3.12/lib/python3.12/site-packages (from matplotlib) (11.0.0)\n",
      "Requirement already satisfied: pyparsing>=2.3.1 in /Library/Frameworks/Python.framework/Versions/3.12/lib/python3.12/site-packages (from matplotlib) (3.2.0)\n",
      "Requirement already satisfied: python-dateutil>=2.7 in /Library/Frameworks/Python.framework/Versions/3.12/lib/python3.12/site-packages (from matplotlib) (2.9.0.post0)\n",
      "Requirement already satisfied: six>=1.5 in /Library/Frameworks/Python.framework/Versions/3.12/lib/python3.12/site-packages (from python-dateutil>=2.7->matplotlib) (1.16.0)\n"
     ]
    },
    {
     "name": "stderr",
     "output_type": "stream",
     "text": [
      "huggingface/tokenizers: The current process just got forked, after parallelism has already been used. Disabling parallelism to avoid deadlocks...\n",
      "To disable this warning, you can either:\n",
      "\t- Avoid using `tokenizers` before the fork if possible\n",
      "\t- Explicitly set the environment variable TOKENIZERS_PARALLELISM=(true | false)\n"
     ]
    },
    {
     "name": "stdout",
     "output_type": "stream",
     "text": [
      "Requirement already satisfied: seaborn in /Library/Frameworks/Python.framework/Versions/3.12/lib/python3.12/site-packages (0.13.2)\n",
      "Requirement already satisfied: numpy!=1.24.0,>=1.20 in /Library/Frameworks/Python.framework/Versions/3.12/lib/python3.12/site-packages (from seaborn) (2.0.2)\n",
      "Requirement already satisfied: pandas>=1.2 in /Library/Frameworks/Python.framework/Versions/3.12/lib/python3.12/site-packages (from seaborn) (2.2.3)\n",
      "Requirement already satisfied: matplotlib!=3.6.1,>=3.4 in /Library/Frameworks/Python.framework/Versions/3.12/lib/python3.12/site-packages (from seaborn) (3.9.2)\n",
      "Requirement already satisfied: contourpy>=1.0.1 in /Library/Frameworks/Python.framework/Versions/3.12/lib/python3.12/site-packages (from matplotlib!=3.6.1,>=3.4->seaborn) (1.3.0)\n",
      "Requirement already satisfied: cycler>=0.10 in /Library/Frameworks/Python.framework/Versions/3.12/lib/python3.12/site-packages (from matplotlib!=3.6.1,>=3.4->seaborn) (0.12.1)\n",
      "Requirement already satisfied: fonttools>=4.22.0 in /Library/Frameworks/Python.framework/Versions/3.12/lib/python3.12/site-packages (from matplotlib!=3.6.1,>=3.4->seaborn) (4.54.1)\n",
      "Requirement already satisfied: kiwisolver>=1.3.1 in /Library/Frameworks/Python.framework/Versions/3.12/lib/python3.12/site-packages (from matplotlib!=3.6.1,>=3.4->seaborn) (1.4.7)\n",
      "Requirement already satisfied: packaging>=20.0 in /Library/Frameworks/Python.framework/Versions/3.12/lib/python3.12/site-packages (from matplotlib!=3.6.1,>=3.4->seaborn) (24.1)\n",
      "Requirement already satisfied: pillow>=8 in /Library/Frameworks/Python.framework/Versions/3.12/lib/python3.12/site-packages (from matplotlib!=3.6.1,>=3.4->seaborn) (11.0.0)\n",
      "Requirement already satisfied: pyparsing>=2.3.1 in /Library/Frameworks/Python.framework/Versions/3.12/lib/python3.12/site-packages (from matplotlib!=3.6.1,>=3.4->seaborn) (3.2.0)\n",
      "Requirement already satisfied: python-dateutil>=2.7 in /Library/Frameworks/Python.framework/Versions/3.12/lib/python3.12/site-packages (from matplotlib!=3.6.1,>=3.4->seaborn) (2.9.0.post0)\n",
      "Requirement already satisfied: pytz>=2020.1 in /Library/Frameworks/Python.framework/Versions/3.12/lib/python3.12/site-packages (from pandas>=1.2->seaborn) (2024.2)\n",
      "Requirement already satisfied: tzdata>=2022.7 in /Library/Frameworks/Python.framework/Versions/3.12/lib/python3.12/site-packages (from pandas>=1.2->seaborn) (2024.2)\n",
      "Requirement already satisfied: six>=1.5 in /Library/Frameworks/Python.framework/Versions/3.12/lib/python3.12/site-packages (from python-dateutil>=2.7->matplotlib!=3.6.1,>=3.4->seaborn) (1.16.0)\n"
     ]
    },
    {
     "name": "stderr",
     "output_type": "stream",
     "text": [
      "huggingface/tokenizers: The current process just got forked, after parallelism has already been used. Disabling parallelism to avoid deadlocks...\n",
      "To disable this warning, you can either:\n",
      "\t- Avoid using `tokenizers` before the fork if possible\n",
      "\t- Explicitly set the environment variable TOKENIZERS_PARALLELISM=(true | false)\n"
     ]
    },
    {
     "name": "stdout",
     "output_type": "stream",
     "text": [
      "Requirement already satisfied: scikit-learn in /Library/Frameworks/Python.framework/Versions/3.12/lib/python3.12/site-packages (1.5.2)\n",
      "Requirement already satisfied: numpy>=1.19.5 in /Library/Frameworks/Python.framework/Versions/3.12/lib/python3.12/site-packages (from scikit-learn) (2.0.2)\n",
      "Requirement already satisfied: scipy>=1.6.0 in /Library/Frameworks/Python.framework/Versions/3.12/lib/python3.12/site-packages (from scikit-learn) (1.14.1)\n",
      "Requirement already satisfied: joblib>=1.2.0 in /Library/Frameworks/Python.framework/Versions/3.12/lib/python3.12/site-packages (from scikit-learn) (1.4.2)\n",
      "Requirement already satisfied: threadpoolctl>=3.1.0 in /Library/Frameworks/Python.framework/Versions/3.12/lib/python3.12/site-packages (from scikit-learn) (3.5.0)\n"
     ]
    },
    {
     "name": "stderr",
     "output_type": "stream",
     "text": [
      "huggingface/tokenizers: The current process just got forked, after parallelism has already been used. Disabling parallelism to avoid deadlocks...\n",
      "To disable this warning, you can either:\n",
      "\t- Avoid using `tokenizers` before the fork if possible\n",
      "\t- Explicitly set the environment variable TOKENIZERS_PARALLELISM=(true | false)\n"
     ]
    },
    {
     "name": "stdout",
     "output_type": "stream",
     "text": [
      "Requirement already satisfied: transformers in /Library/Frameworks/Python.framework/Versions/3.12/lib/python3.12/site-packages (4.46.2)\n",
      "Requirement already satisfied: filelock in /Library/Frameworks/Python.framework/Versions/3.12/lib/python3.12/site-packages (from transformers) (3.16.1)\n",
      "Requirement already satisfied: huggingface-hub<1.0,>=0.23.2 in /Library/Frameworks/Python.framework/Versions/3.12/lib/python3.12/site-packages (from transformers) (0.26.2)\n",
      "Requirement already satisfied: numpy>=1.17 in /Library/Frameworks/Python.framework/Versions/3.12/lib/python3.12/site-packages (from transformers) (2.0.2)\n",
      "Requirement already satisfied: packaging>=20.0 in /Library/Frameworks/Python.framework/Versions/3.12/lib/python3.12/site-packages (from transformers) (24.1)\n",
      "Requirement already satisfied: pyyaml>=5.1 in /Library/Frameworks/Python.framework/Versions/3.12/lib/python3.12/site-packages (from transformers) (6.0.2)\n",
      "Requirement already satisfied: regex!=2019.12.17 in /Library/Frameworks/Python.framework/Versions/3.12/lib/python3.12/site-packages (from transformers) (2024.9.11)\n",
      "Requirement already satisfied: requests in /Library/Frameworks/Python.framework/Versions/3.12/lib/python3.12/site-packages (from transformers) (2.32.3)\n",
      "Requirement already satisfied: safetensors>=0.4.1 in /Library/Frameworks/Python.framework/Versions/3.12/lib/python3.12/site-packages (from transformers) (0.4.5)\n",
      "Requirement already satisfied: tokenizers<0.21,>=0.20 in /Library/Frameworks/Python.framework/Versions/3.12/lib/python3.12/site-packages (from transformers) (0.20.3)\n",
      "Requirement already satisfied: tqdm>=4.27 in /Library/Frameworks/Python.framework/Versions/3.12/lib/python3.12/site-packages (from transformers) (4.66.6)\n",
      "Requirement already satisfied: fsspec>=2023.5.0 in /Library/Frameworks/Python.framework/Versions/3.12/lib/python3.12/site-packages (from huggingface-hub<1.0,>=0.23.2->transformers) (2024.10.0)\n",
      "Requirement already satisfied: typing-extensions>=3.7.4.3 in /Library/Frameworks/Python.framework/Versions/3.12/lib/python3.12/site-packages (from huggingface-hub<1.0,>=0.23.2->transformers) (4.12.2)\n",
      "Requirement already satisfied: charset-normalizer<4,>=2 in /Library/Frameworks/Python.framework/Versions/3.12/lib/python3.12/site-packages (from requests->transformers) (3.4.0)\n",
      "Requirement already satisfied: idna<4,>=2.5 in /Library/Frameworks/Python.framework/Versions/3.12/lib/python3.12/site-packages (from requests->transformers) (3.10)\n",
      "Requirement already satisfied: urllib3<3,>=1.21.1 in /Library/Frameworks/Python.framework/Versions/3.12/lib/python3.12/site-packages (from requests->transformers) (2.2.3)\n",
      "Requirement already satisfied: certifi>=2017.4.17 in /Library/Frameworks/Python.framework/Versions/3.12/lib/python3.12/site-packages (from requests->transformers) (2024.8.30)\n"
     ]
    },
    {
     "name": "stderr",
     "output_type": "stream",
     "text": [
      "huggingface/tokenizers: The current process just got forked, after parallelism has already been used. Disabling parallelism to avoid deadlocks...\n",
      "To disable this warning, you can either:\n",
      "\t- Avoid using `tokenizers` before the fork if possible\n",
      "\t- Explicitly set the environment variable TOKENIZERS_PARALLELISM=(true | false)\n"
     ]
    },
    {
     "name": "stdout",
     "output_type": "stream",
     "text": [
      "Requirement already satisfied: torch in /Library/Frameworks/Python.framework/Versions/3.12/lib/python3.12/site-packages (2.5.1)\n",
      "Requirement already satisfied: filelock in /Library/Frameworks/Python.framework/Versions/3.12/lib/python3.12/site-packages (from torch) (3.16.1)\n",
      "Requirement already satisfied: typing-extensions>=4.8.0 in /Library/Frameworks/Python.framework/Versions/3.12/lib/python3.12/site-packages (from torch) (4.12.2)\n",
      "Requirement already satisfied: networkx in /Library/Frameworks/Python.framework/Versions/3.12/lib/python3.12/site-packages (from torch) (3.4.2)\n",
      "Requirement already satisfied: jinja2 in /Library/Frameworks/Python.framework/Versions/3.12/lib/python3.12/site-packages (from torch) (3.1.4)\n",
      "Requirement already satisfied: fsspec in /Library/Frameworks/Python.framework/Versions/3.12/lib/python3.12/site-packages (from torch) (2024.10.0)\n",
      "Requirement already satisfied: setuptools in /Library/Frameworks/Python.framework/Versions/3.12/lib/python3.12/site-packages (from torch) (75.3.0)\n",
      "Requirement already satisfied: sympy==1.13.1 in /Library/Frameworks/Python.framework/Versions/3.12/lib/python3.12/site-packages (from torch) (1.13.1)\n",
      "Requirement already satisfied: mpmath<1.4,>=1.1.0 in /Library/Frameworks/Python.framework/Versions/3.12/lib/python3.12/site-packages (from sympy==1.13.1->torch) (1.3.0)\n",
      "Requirement already satisfied: MarkupSafe>=2.0 in /Library/Frameworks/Python.framework/Versions/3.12/lib/python3.12/site-packages (from jinja2->torch) (2.1.5)\n"
     ]
    },
    {
     "name": "stderr",
     "output_type": "stream",
     "text": [
      "huggingface/tokenizers: The current process just got forked, after parallelism has already been used. Disabling parallelism to avoid deadlocks...\n",
      "To disable this warning, you can either:\n",
      "\t- Avoid using `tokenizers` before the fork if possible\n",
      "\t- Explicitly set the environment variable TOKENIZERS_PARALLELISM=(true | false)\n"
     ]
    },
    {
     "name": "stdout",
     "output_type": "stream",
     "text": [
      "Requirement already satisfied: sentence-transformers in /Library/Frameworks/Python.framework/Versions/3.12/lib/python3.12/site-packages (3.3.0)\n",
      "Requirement already satisfied: transformers<5.0.0,>=4.41.0 in /Library/Frameworks/Python.framework/Versions/3.12/lib/python3.12/site-packages (from sentence-transformers) (4.46.2)\n",
      "Requirement already satisfied: tqdm in /Library/Frameworks/Python.framework/Versions/3.12/lib/python3.12/site-packages (from sentence-transformers) (4.66.6)\n",
      "Requirement already satisfied: torch>=1.11.0 in /Library/Frameworks/Python.framework/Versions/3.12/lib/python3.12/site-packages (from sentence-transformers) (2.5.1)\n",
      "Requirement already satisfied: scikit-learn in /Library/Frameworks/Python.framework/Versions/3.12/lib/python3.12/site-packages (from sentence-transformers) (1.5.2)\n",
      "Requirement already satisfied: scipy in /Library/Frameworks/Python.framework/Versions/3.12/lib/python3.12/site-packages (from sentence-transformers) (1.14.1)\n",
      "Requirement already satisfied: huggingface-hub>=0.20.0 in /Library/Frameworks/Python.framework/Versions/3.12/lib/python3.12/site-packages (from sentence-transformers) (0.26.2)\n",
      "Requirement already satisfied: Pillow in /Library/Frameworks/Python.framework/Versions/3.12/lib/python3.12/site-packages (from sentence-transformers) (11.0.0)\n",
      "Requirement already satisfied: filelock in /Library/Frameworks/Python.framework/Versions/3.12/lib/python3.12/site-packages (from huggingface-hub>=0.20.0->sentence-transformers) (3.16.1)\n",
      "Requirement already satisfied: fsspec>=2023.5.0 in /Library/Frameworks/Python.framework/Versions/3.12/lib/python3.12/site-packages (from huggingface-hub>=0.20.0->sentence-transformers) (2024.10.0)\n",
      "Requirement already satisfied: packaging>=20.9 in /Library/Frameworks/Python.framework/Versions/3.12/lib/python3.12/site-packages (from huggingface-hub>=0.20.0->sentence-transformers) (24.1)\n",
      "Requirement already satisfied: pyyaml>=5.1 in /Library/Frameworks/Python.framework/Versions/3.12/lib/python3.12/site-packages (from huggingface-hub>=0.20.0->sentence-transformers) (6.0.2)\n",
      "Requirement already satisfied: requests in /Library/Frameworks/Python.framework/Versions/3.12/lib/python3.12/site-packages (from huggingface-hub>=0.20.0->sentence-transformers) (2.32.3)\n",
      "Requirement already satisfied: typing-extensions>=3.7.4.3 in /Library/Frameworks/Python.framework/Versions/3.12/lib/python3.12/site-packages (from huggingface-hub>=0.20.0->sentence-transformers) (4.12.2)\n",
      "Requirement already satisfied: networkx in /Library/Frameworks/Python.framework/Versions/3.12/lib/python3.12/site-packages (from torch>=1.11.0->sentence-transformers) (3.4.2)\n",
      "Requirement already satisfied: jinja2 in /Library/Frameworks/Python.framework/Versions/3.12/lib/python3.12/site-packages (from torch>=1.11.0->sentence-transformers) (3.1.4)\n",
      "Requirement already satisfied: setuptools in /Library/Frameworks/Python.framework/Versions/3.12/lib/python3.12/site-packages (from torch>=1.11.0->sentence-transformers) (75.3.0)\n",
      "Requirement already satisfied: sympy==1.13.1 in /Library/Frameworks/Python.framework/Versions/3.12/lib/python3.12/site-packages (from torch>=1.11.0->sentence-transformers) (1.13.1)\n",
      "Requirement already satisfied: mpmath<1.4,>=1.1.0 in /Library/Frameworks/Python.framework/Versions/3.12/lib/python3.12/site-packages (from sympy==1.13.1->torch>=1.11.0->sentence-transformers) (1.3.0)\n",
      "Requirement already satisfied: numpy>=1.17 in /Library/Frameworks/Python.framework/Versions/3.12/lib/python3.12/site-packages (from transformers<5.0.0,>=4.41.0->sentence-transformers) (2.0.2)\n",
      "Requirement already satisfied: regex!=2019.12.17 in /Library/Frameworks/Python.framework/Versions/3.12/lib/python3.12/site-packages (from transformers<5.0.0,>=4.41.0->sentence-transformers) (2024.9.11)\n",
      "Requirement already satisfied: safetensors>=0.4.1 in /Library/Frameworks/Python.framework/Versions/3.12/lib/python3.12/site-packages (from transformers<5.0.0,>=4.41.0->sentence-transformers) (0.4.5)\n",
      "Requirement already satisfied: tokenizers<0.21,>=0.20 in /Library/Frameworks/Python.framework/Versions/3.12/lib/python3.12/site-packages (from transformers<5.0.0,>=4.41.0->sentence-transformers) (0.20.3)\n",
      "Requirement already satisfied: joblib>=1.2.0 in /Library/Frameworks/Python.framework/Versions/3.12/lib/python3.12/site-packages (from scikit-learn->sentence-transformers) (1.4.2)\n",
      "Requirement already satisfied: threadpoolctl>=3.1.0 in /Library/Frameworks/Python.framework/Versions/3.12/lib/python3.12/site-packages (from scikit-learn->sentence-transformers) (3.5.0)\n",
      "Requirement already satisfied: MarkupSafe>=2.0 in /Library/Frameworks/Python.framework/Versions/3.12/lib/python3.12/site-packages (from jinja2->torch>=1.11.0->sentence-transformers) (2.1.5)\n",
      "Requirement already satisfied: charset-normalizer<4,>=2 in /Library/Frameworks/Python.framework/Versions/3.12/lib/python3.12/site-packages (from requests->huggingface-hub>=0.20.0->sentence-transformers) (3.4.0)\n",
      "Requirement already satisfied: idna<4,>=2.5 in /Library/Frameworks/Python.framework/Versions/3.12/lib/python3.12/site-packages (from requests->huggingface-hub>=0.20.0->sentence-transformers) (3.10)\n",
      "Requirement already satisfied: urllib3<3,>=1.21.1 in /Library/Frameworks/Python.framework/Versions/3.12/lib/python3.12/site-packages (from requests->huggingface-hub>=0.20.0->sentence-transformers) (2.2.3)\n",
      "Requirement already satisfied: certifi>=2017.4.17 in /Library/Frameworks/Python.framework/Versions/3.12/lib/python3.12/site-packages (from requests->huggingface-hub>=0.20.0->sentence-transformers) (2024.8.30)\n"
     ]
    },
    {
     "name": "stderr",
     "output_type": "stream",
     "text": [
      "huggingface/tokenizers: The current process just got forked, after parallelism has already been used. Disabling parallelism to avoid deadlocks...\n",
      "To disable this warning, you can either:\n",
      "\t- Avoid using `tokenizers` before the fork if possible\n",
      "\t- Explicitly set the environment variable TOKENIZERS_PARALLELISM=(true | false)\n"
     ]
    },
    {
     "name": "stdout",
     "output_type": "stream",
     "text": [
      "Requirement already satisfied: scipy in /Library/Frameworks/Python.framework/Versions/3.12/lib/python3.12/site-packages (1.14.1)\n",
      "Requirement already satisfied: numpy<2.3,>=1.23.5 in /Library/Frameworks/Python.framework/Versions/3.12/lib/python3.12/site-packages (from scipy) (2.0.2)\n"
     ]
    },
    {
     "name": "stderr",
     "output_type": "stream",
     "text": [
      "huggingface/tokenizers: The current process just got forked, after parallelism has already been used. Disabling parallelism to avoid deadlocks...\n",
      "To disable this warning, you can either:\n",
      "\t- Avoid using `tokenizers` before the fork if possible\n",
      "\t- Explicitly set the environment variable TOKENIZERS_PARALLELISM=(true | false)\n"
     ]
    },
    {
     "name": "stdout",
     "output_type": "stream",
     "text": [
      "Requirement already satisfied: bertopic in /Library/Frameworks/Python.framework/Versions/3.12/lib/python3.12/site-packages (0.16.4)\n",
      "Requirement already satisfied: hdbscan>=0.8.29 in /Library/Frameworks/Python.framework/Versions/3.12/lib/python3.12/site-packages (from bertopic) (0.8.39)\n",
      "Requirement already satisfied: numpy>=1.20.0 in /Library/Frameworks/Python.framework/Versions/3.12/lib/python3.12/site-packages (from bertopic) (2.0.2)\n",
      "Requirement already satisfied: pandas>=1.1.5 in /Library/Frameworks/Python.framework/Versions/3.12/lib/python3.12/site-packages (from bertopic) (2.2.3)\n",
      "Requirement already satisfied: plotly>=4.7.0 in /Library/Frameworks/Python.framework/Versions/3.12/lib/python3.12/site-packages (from bertopic) (5.24.1)\n",
      "Requirement already satisfied: scikit-learn>=0.22.2.post1 in /Library/Frameworks/Python.framework/Versions/3.12/lib/python3.12/site-packages (from bertopic) (1.5.2)\n",
      "Requirement already satisfied: sentence-transformers>=0.4.1 in /Library/Frameworks/Python.framework/Versions/3.12/lib/python3.12/site-packages (from bertopic) (3.3.0)\n",
      "Requirement already satisfied: tqdm>=4.41.1 in /Library/Frameworks/Python.framework/Versions/3.12/lib/python3.12/site-packages (from bertopic) (4.66.6)\n",
      "Requirement already satisfied: umap-learn>=0.5.0 in /Library/Frameworks/Python.framework/Versions/3.12/lib/python3.12/site-packages (from bertopic) (0.5.7)\n",
      "Requirement already satisfied: scipy>=1.0 in /Library/Frameworks/Python.framework/Versions/3.12/lib/python3.12/site-packages (from hdbscan>=0.8.29->bertopic) (1.14.1)\n",
      "Requirement already satisfied: joblib>=1.0 in /Library/Frameworks/Python.framework/Versions/3.12/lib/python3.12/site-packages (from hdbscan>=0.8.29->bertopic) (1.4.2)\n",
      "Requirement already satisfied: python-dateutil>=2.8.2 in /Library/Frameworks/Python.framework/Versions/3.12/lib/python3.12/site-packages (from pandas>=1.1.5->bertopic) (2.9.0.post0)\n",
      "Requirement already satisfied: pytz>=2020.1 in /Library/Frameworks/Python.framework/Versions/3.12/lib/python3.12/site-packages (from pandas>=1.1.5->bertopic) (2024.2)\n",
      "Requirement already satisfied: tzdata>=2022.7 in /Library/Frameworks/Python.framework/Versions/3.12/lib/python3.12/site-packages (from pandas>=1.1.5->bertopic) (2024.2)\n",
      "Requirement already satisfied: tenacity>=6.2.0 in /Library/Frameworks/Python.framework/Versions/3.12/lib/python3.12/site-packages (from plotly>=4.7.0->bertopic) (9.0.0)\n",
      "Requirement already satisfied: packaging in /Library/Frameworks/Python.framework/Versions/3.12/lib/python3.12/site-packages (from plotly>=4.7.0->bertopic) (24.1)\n",
      "Requirement already satisfied: threadpoolctl>=3.1.0 in /Library/Frameworks/Python.framework/Versions/3.12/lib/python3.12/site-packages (from scikit-learn>=0.22.2.post1->bertopic) (3.5.0)\n",
      "Requirement already satisfied: transformers<5.0.0,>=4.41.0 in /Library/Frameworks/Python.framework/Versions/3.12/lib/python3.12/site-packages (from sentence-transformers>=0.4.1->bertopic) (4.46.2)\n",
      "Requirement already satisfied: torch>=1.11.0 in /Library/Frameworks/Python.framework/Versions/3.12/lib/python3.12/site-packages (from sentence-transformers>=0.4.1->bertopic) (2.5.1)\n",
      "Requirement already satisfied: huggingface-hub>=0.20.0 in /Library/Frameworks/Python.framework/Versions/3.12/lib/python3.12/site-packages (from sentence-transformers>=0.4.1->bertopic) (0.26.2)\n",
      "Requirement already satisfied: Pillow in /Library/Frameworks/Python.framework/Versions/3.12/lib/python3.12/site-packages (from sentence-transformers>=0.4.1->bertopic) (11.0.0)\n",
      "Requirement already satisfied: numba>=0.51.2 in /Library/Frameworks/Python.framework/Versions/3.12/lib/python3.12/site-packages (from umap-learn>=0.5.0->bertopic) (0.60.0)\n",
      "Requirement already satisfied: pynndescent>=0.5 in /Library/Frameworks/Python.framework/Versions/3.12/lib/python3.12/site-packages (from umap-learn>=0.5.0->bertopic) (0.5.13)\n",
      "Requirement already satisfied: filelock in /Library/Frameworks/Python.framework/Versions/3.12/lib/python3.12/site-packages (from huggingface-hub>=0.20.0->sentence-transformers>=0.4.1->bertopic) (3.16.1)\n",
      "Requirement already satisfied: fsspec>=2023.5.0 in /Library/Frameworks/Python.framework/Versions/3.12/lib/python3.12/site-packages (from huggingface-hub>=0.20.0->sentence-transformers>=0.4.1->bertopic) (2024.10.0)\n",
      "Requirement already satisfied: pyyaml>=5.1 in /Library/Frameworks/Python.framework/Versions/3.12/lib/python3.12/site-packages (from huggingface-hub>=0.20.0->sentence-transformers>=0.4.1->bertopic) (6.0.2)\n",
      "Requirement already satisfied: requests in /Library/Frameworks/Python.framework/Versions/3.12/lib/python3.12/site-packages (from huggingface-hub>=0.20.0->sentence-transformers>=0.4.1->bertopic) (2.32.3)\n",
      "Requirement already satisfied: typing-extensions>=3.7.4.3 in /Library/Frameworks/Python.framework/Versions/3.12/lib/python3.12/site-packages (from huggingface-hub>=0.20.0->sentence-transformers>=0.4.1->bertopic) (4.12.2)\n",
      "Requirement already satisfied: llvmlite<0.44,>=0.43.0dev0 in /Library/Frameworks/Python.framework/Versions/3.12/lib/python3.12/site-packages (from numba>=0.51.2->umap-learn>=0.5.0->bertopic) (0.43.0)\n",
      "Requirement already satisfied: six>=1.5 in /Library/Frameworks/Python.framework/Versions/3.12/lib/python3.12/site-packages (from python-dateutil>=2.8.2->pandas>=1.1.5->bertopic) (1.16.0)\n",
      "Requirement already satisfied: networkx in /Library/Frameworks/Python.framework/Versions/3.12/lib/python3.12/site-packages (from torch>=1.11.0->sentence-transformers>=0.4.1->bertopic) (3.4.2)\n",
      "Requirement already satisfied: jinja2 in /Library/Frameworks/Python.framework/Versions/3.12/lib/python3.12/site-packages (from torch>=1.11.0->sentence-transformers>=0.4.1->bertopic) (3.1.4)\n",
      "Requirement already satisfied: setuptools in /Library/Frameworks/Python.framework/Versions/3.12/lib/python3.12/site-packages (from torch>=1.11.0->sentence-transformers>=0.4.1->bertopic) (75.3.0)\n",
      "Requirement already satisfied: sympy==1.13.1 in /Library/Frameworks/Python.framework/Versions/3.12/lib/python3.12/site-packages (from torch>=1.11.0->sentence-transformers>=0.4.1->bertopic) (1.13.1)\n",
      "Requirement already satisfied: mpmath<1.4,>=1.1.0 in /Library/Frameworks/Python.framework/Versions/3.12/lib/python3.12/site-packages (from sympy==1.13.1->torch>=1.11.0->sentence-transformers>=0.4.1->bertopic) (1.3.0)\n",
      "Requirement already satisfied: regex!=2019.12.17 in /Library/Frameworks/Python.framework/Versions/3.12/lib/python3.12/site-packages (from transformers<5.0.0,>=4.41.0->sentence-transformers>=0.4.1->bertopic) (2024.9.11)\n",
      "Requirement already satisfied: safetensors>=0.4.1 in /Library/Frameworks/Python.framework/Versions/3.12/lib/python3.12/site-packages (from transformers<5.0.0,>=4.41.0->sentence-transformers>=0.4.1->bertopic) (0.4.5)\n",
      "Requirement already satisfied: tokenizers<0.21,>=0.20 in /Library/Frameworks/Python.framework/Versions/3.12/lib/python3.12/site-packages (from transformers<5.0.0,>=4.41.0->sentence-transformers>=0.4.1->bertopic) (0.20.3)\n",
      "Requirement already satisfied: MarkupSafe>=2.0 in /Library/Frameworks/Python.framework/Versions/3.12/lib/python3.12/site-packages (from jinja2->torch>=1.11.0->sentence-transformers>=0.4.1->bertopic) (2.1.5)\n",
      "Requirement already satisfied: charset-normalizer<4,>=2 in /Library/Frameworks/Python.framework/Versions/3.12/lib/python3.12/site-packages (from requests->huggingface-hub>=0.20.0->sentence-transformers>=0.4.1->bertopic) (3.4.0)\n",
      "Requirement already satisfied: idna<4,>=2.5 in /Library/Frameworks/Python.framework/Versions/3.12/lib/python3.12/site-packages (from requests->huggingface-hub>=0.20.0->sentence-transformers>=0.4.1->bertopic) (3.10)\n",
      "Requirement already satisfied: urllib3<3,>=1.21.1 in /Library/Frameworks/Python.framework/Versions/3.12/lib/python3.12/site-packages (from requests->huggingface-hub>=0.20.0->sentence-transformers>=0.4.1->bertopic) (2.2.3)\n",
      "Requirement already satisfied: certifi>=2017.4.17 in /Library/Frameworks/Python.framework/Versions/3.12/lib/python3.12/site-packages (from requests->huggingface-hub>=0.20.0->sentence-transformers>=0.4.1->bertopic) (2024.8.30)\n"
     ]
    },
    {
     "name": "stderr",
     "output_type": "stream",
     "text": [
      "huggingface/tokenizers: The current process just got forked, after parallelism has already been used. Disabling parallelism to avoid deadlocks...\n",
      "To disable this warning, you can either:\n",
      "\t- Avoid using `tokenizers` before the fork if possible\n",
      "\t- Explicitly set the environment variable TOKENIZERS_PARALLELISM=(true | false)\n"
     ]
    },
    {
     "name": "stdout",
     "output_type": "stream",
     "text": [
      "Collecting textblob\n",
      "  Downloading textblob-0.18.0.post0-py3-none-any.whl.metadata (4.5 kB)\n",
      "Requirement already satisfied: nltk>=3.8 in /Library/Frameworks/Python.framework/Versions/3.12/lib/python3.12/site-packages (from textblob) (3.9.1)\n",
      "Requirement already satisfied: click in /Library/Frameworks/Python.framework/Versions/3.12/lib/python3.12/site-packages (from nltk>=3.8->textblob) (8.1.7)\n",
      "Requirement already satisfied: joblib in /Library/Frameworks/Python.framework/Versions/3.12/lib/python3.12/site-packages (from nltk>=3.8->textblob) (1.4.2)\n",
      "Requirement already satisfied: regex>=2021.8.3 in /Library/Frameworks/Python.framework/Versions/3.12/lib/python3.12/site-packages (from nltk>=3.8->textblob) (2024.9.11)\n",
      "Requirement already satisfied: tqdm in /Library/Frameworks/Python.framework/Versions/3.12/lib/python3.12/site-packages (from nltk>=3.8->textblob) (4.66.6)\n",
      "Downloading textblob-0.18.0.post0-py3-none-any.whl (626 kB)\n",
      "\u001b[2K   \u001b[90m━━━━━━━━━━━━━━━━━━━━━━━━━━━━━━━━━━━━━━━━\u001b[0m \u001b[32m626.3/626.3 kB\u001b[0m \u001b[31m10.1 MB/s\u001b[0m eta \u001b[36m0:00:00\u001b[0m\n",
      "\u001b[?25hInstalling collected packages: textblob\n",
      "Successfully installed textblob-0.18.0.post0\n",
      "fatal: destination path 'Milestone-2-Data-Exploration-Initial-Preprocessing' already exists and is not an empty directory.\n"
     ]
    },
    {
     "name": "stderr",
     "output_type": "stream",
     "text": [
      "huggingface/tokenizers: The current process just got forked, after parallelism has already been used. Disabling parallelism to avoid deadlocks...\n",
      "To disable this warning, you can either:\n",
      "\t- Avoid using `tokenizers` before the fork if possible\n",
      "\t- Explicitly set the environment variable TOKENIZERS_PARALLELISM=(true | false)\n"
     ]
    }
   ],
   "source": [
    "# Import/pip install all of the necessary libraries\n",
    "!pip install pandas\n",
    "!pip install numpy\n",
    "!pip install matplotlib\n",
    "!pip install seaborn\n",
    "!pip install scikit-learn \n",
    "!pip install transformers\n",
    "!pip install torch\n",
    "!pip install sentence-transformers\n",
    "!pip install scipy\n",
    "\n",
    "\n",
    "\n",
    "# Clone the repository\n",
    "!git clone https://github.com/dregmi08/Milestone-2-Data-Exploration-Initial-Preprocessing.git\n",
    "\n",
    "# Include all imports \n",
    "import sklearn\n",
    "import pandas as pd\n",
    "from sklearn.feature_extraction.text import CountVectorizer\n",
    "from sklearn.decomposition import LatentDirichletAllocation\n",
    "import numpy as np\n",
    "from sklearn.feature_extraction.text import ENGLISH_STOP_WORDS\n",
    "from transformers import pipeline\n",
    "from sentence_transformers import SentenceTransformer, util\n",
    "from scipy.stats import kendalltau"
   ]
  },
  {
   "cell_type": "code",
   "execution_count": 2,
   "metadata": {
    "colab": {
     "base_uri": "https://localhost:8080/",
     "height": 423
    },
    "id": "EGY2BKK05N-h",
    "outputId": "a9d5211a-4065-4f0b-ef2f-25ae20b51e05"
   },
   "outputs": [
    {
     "name": "stdout",
     "output_type": "stream",
     "text": [
      "                                                  Review  Rating  \\\n",
      "0      Great music service, the audio is high quality...       5   \n",
      "1      Please ignore previous negative rating. This a...       5   \n",
      "2      This pop-up \"Get the best Spotify experience o...       4   \n",
      "3        Really buggy and terrible to use as of recently       1   \n",
      "4      Dear Spotify why do I get songs that I didn't ...       1   \n",
      "...                                                  ...     ...   \n",
      "61589  Even though it was communicated that lyrics fe...       1   \n",
      "61590  Use to be sooo good back when I had it, and wh...       1   \n",
      "61591  This app would be good if not for it taking ov...       2   \n",
      "61592  The app is good hard to navigate and won't jus...       2   \n",
      "61593  Its good but sometimes it doesnt load the musi...       4   \n",
      "\n",
      "       Total_thumbsup  \n",
      "0                   2  \n",
      "1                   1  \n",
      "2                   0  \n",
      "3                   1  \n",
      "4                   1  \n",
      "...               ...  \n",
      "61589               6  \n",
      "61590               0  \n",
      "61591              10  \n",
      "61592               1  \n",
      "61593               0  \n",
      "\n",
      "[61594 rows x 3 columns]\n"
     ]
    }
   ],
   "source": [
    "# Create a pandas data frame from our csv file\n",
    "data = pd.read_csv('Milestone-2-Data-Exploration-Initial-Preprocessing/reviews.csv')\n",
    "\n",
    "# Dropping the unnecessary columns: timesubmitted is the time which the user submitted the review, which is irrelevant to our project\n",
    "# The Reply column is over 99.6% null, so we will be dropping that as well since there is not much information that we can extract to \n",
    "#train our model\n",
    "data = data.drop(columns=['Time_submitted', 'Reply'])\n",
    "\n",
    "# Display the data frame\n",
    "print(data)"
   ]
  },
  {
   "cell_type": "code",
   "execution_count": 74,
   "metadata": {
    "id": "Dv4WsY765dFW"
   },
   "outputs": [],
   "source": [
    "# This cell contains basic preprocessing for our reviews, we want to remove stop words (words that contain/contribute no valuable information\n",
    "# (like and, I, she, her), we do this to ensure our review text only has words that provide useful information), convert all text to\n",
    "# lowercase, and removing numbers/punctuation\n",
    "def preprocess_reviews(text_series):\n",
    "\n",
    "    # Convert text to lowercase\n",
    "    text_series = text_series.str.lower() \n",
    "\n",
    "    # Remove punctuation\n",
    "    text_series = text_series.str.replace(r'[^\\w\\s]', '')  \n",
    "\n",
    "    # Remove numbers\n",
    "    text_series = text_series.str.replace(r'\\d+', '')\n",
    "\n",
    "    #Return filtered reviews\n",
    "    return text_series\n",
    "\n",
    "# Create a new feature in the dataset that now contains the preprocessed version of all reviews\n",
    "data['Review_clean'] = preprocess_reviews(data['Review'])"
   ]
  },
  {
   "cell_type": "code",
   "execution_count": 75,
   "metadata": {
    "id": "I99Kus2154he"
   },
   "outputs": [],
   "source": [
    "# Creates a tool to turn text into a matrix of word/phrase counts, focusing on the 1000 most common ones, ignoring common stop words.\n",
    "vectorizer = CountVectorizer(max_features=1000, ngram_range=(1, 2), stop_words='english')\n",
    "\n",
    "# Convert the cleaned reviews into a matrix of numbers, where each row is a review and each column is a word or phrase\n",
    "X = vectorizer.fit_transform(data['Review_clean'])"
   ]
  },
  {
   "cell_type": "code",
   "execution_count": 77,
   "metadata": {
    "id": "OB9SgWgO59n9"
   },
   "outputs": [],
   "source": [
    "# Creates an LDA model to find 20 topics in the data, where each topic is a group of related words.\n",
    "lda = LatentDirichletAllocation(n_components=20, random_state=0)\n",
    "\n",
    "# Trains the LDA model on the numerical feature matrix (X) to learn the topics.\n",
    "lda.fit(X)\n",
    "\n",
    "# Transforms the data into a topic representation, showing the topic distribution for each document.\n",
    "topics = lda.transform(X)"
   ]
  },
  {
   "cell_type": "code",
   "execution_count": 78,
   "metadata": {
    "id": "y4TnXb4P6FWC"
   },
   "outputs": [],
   "source": [
    "def get_sentiment_score(rating):\n",
    "    if rating >= 4:\n",
    "        return 1  # Positive\n",
    "    elif rating <= 2:\n",
    "        return -1  # Negative\n",
    "    else:\n",
    "        return 0  # Neutral\n",
    "\n",
    "data['sentiment_score'] = data['Rating'].apply(get_sentiment_score)"
   ]
  },
  {
   "cell_type": "code",
   "execution_count": 79,
   "metadata": {
    "colab": {
     "base_uri": "https://localhost:8080/"
    },
    "id": "FPMi4d6k6SFB",
    "outputId": "a1f1fb38-b7cd-4ee4-e240-f9f457c99e51",
    "scrolled": true
   },
   "outputs": [
    {
     "name": "stdout",
     "output_type": "stream",
     "text": [
      "Top words per topic:\n",
      "           Topic 1           Topic 2  Topic 3        Topic 4        Topic 5  \\\n",
      "0   keeps crashing            simple     went        forward  spotify great   \n",
      "1            worse  highly recommend    wrong      currently          great   \n",
      "2          spotify          app easy  won let  recent update          thing   \n",
      "3      uninstalled          navigate    email            fix        artists   \n",
      "4          getting           spotify      buy            bar            use   \n",
      "5              fix             great     says           skip       download   \n",
      "6            music       apple music     just       open app          music   \n",
      "7        app keeps              lots  problem      close app           feel   \n",
      "8             load            highly    login   song playing   like spotify   \n",
      "9        excellent            really      fix         recent        premium   \n",
      "10        stopping           app use   logged         update        pandora   \n",
      "11            time       use spotify  spotify         button    spotify app   \n",
      "12        multiple             apple      try           play           just   \n",
      "13      constantly         recommend    tried          pause   love spotify   \n",
      "14         crashes           use app      won          close           adds   \n",
      "15           times             music      let         screen            app   \n",
      "16        crashing               app      log           open         better   \n",
      "17         podcast          easy use      app        playing           love   \n",
      "18           keeps              easy  premium           song           like   \n",
      "19             app               use  account            app        spotify   \n",
      "\n",
      "            Topic 6     Topic 7      Topic 8          Topic 9       Topic 10  \\\n",
      "0               don          10       search         friendly        ve used   \n",
      "1            better     ad free        click    streaming app          music   \n",
      "2      free version   ads songs       choose         app love    pretty good   \n",
      "3              plan        good  listen song          amazing           time   \n",
      "4              paid      listen    different             just       ve using   \n",
      "5   spotify premium  30 minutes          fix          service  spotify years   \n",
      "6       pay premium       music        songs        playlists      using app   \n",
      "7           youtube        just         like             user       app good   \n",
      "8           service        like       listen       love music         pretty   \n",
      "9             month     premium          app       absolutely    really good   \n",
      "10            music   listening       random            great  using spotify   \n",
      "11            worth    annoying    song want  music streaming           used   \n",
      "12            money        free      shuffle        selection         really   \n",
      "13           paying        song         just     love spotify       good app   \n",
      "14     subscription     minutes        plays          spotify             ve   \n",
      "15          version         app    play song        streaming          years   \n",
      "16          spotify       songs         want              app        spotify   \n",
      "17              pay          30     playlist            music          using   \n",
      "18             free          ad         play         love app            app   \n",
      "19          premium         ads         song             love           good   \n",
      "\n",
      "            Topic 11    Topic 12       Topic 13       Topic 14      Topic 15  \\\n",
      "0         songs play          im  playing music      uninstall    songs want   \n",
      "1            library    annoying         player      interface  listen songs   \n",
      "2       offline mode        just  stops playing      reinstall          hour   \n",
      "3           playlist   app great  latest update           high           app   \n",
      "4   downloaded songs       stars       controls            way      don want   \n",
      "5                won     problem           just          buggy          hear   \n",
      "6             albums       fixed          phone             ve      don like   \n",
      "7              album         fix        restart         better          skip   \n",
      "8               list     feature         latest          great      don know   \n",
      "9           download        hope            fix             ui         skips   \n",
      "10              mode    download          pause  sound quality  listen music   \n",
      "11           shuffle  new update            bar        podcast   want listen   \n",
      "12            listen       songs           play        content          know   \n",
      "13        play songs      really       randomly       features          like   \n",
      "14              able   great app         update           just         music   \n",
      "15        downloaded         new          stops            app          just   \n",
      "16           offline      lyrics           stop          audio         songs   \n",
      "17         playlists      update          music          sound        listen   \n",
      "18              play         app            app       podcasts           don   \n",
      "19             songs       great        playing        quality          want   \n",
      "\n",
      "        Topic 16        Topic 17             Topic 18    Topic 19  \\\n",
      "0           apps             new                phone   app doesn   \n",
      "1        spotify      songs like           downloaded       works   \n",
      "2          songs        like app                   ve      update   \n",
      "3    amazing app        favorite                 just        play   \n",
      "4       nice app       playlists            joe rogan     connect   \n",
      "5       favorite          adding                works     devices   \n",
      "6   spotify best           added                  joe       worst   \n",
      "7     app listen         feature                 fine        auto   \n",
      "8        awesome          really                rogan        does   \n",
      "9   listen music            make                tried      device   \n",
      "10      best app            just  internet connection  doesn work   \n",
      "11     app music     liked songs                 wifi     spotify   \n",
      "12          nice  songs playlist                  fix   bluetooth   \n",
      "13       amazing            song              spotify        time   \n",
      "14        listen             app                issue         car   \n",
      "15    best music           liked                 data     android   \n",
      "16     music app             add           connection       phone   \n",
      "17          best            like              working        work   \n",
      "18         music        playlist             internet         app   \n",
      "19           app           songs                  app       doesn   \n",
      "\n",
      "           Topic 20  \n",
      "0           artists  \n",
      "1         new music  \n",
      "2        music like  \n",
      "3            listen  \n",
      "4    music podcasts  \n",
      "5             thank  \n",
      "6           variety  \n",
      "7        good music  \n",
      "8       great music  \n",
      "9               new  \n",
      "10              app  \n",
      "11  listening music  \n",
      "12         podcasts  \n",
      "13            enjoy  \n",
      "14             like  \n",
      "15             good  \n",
      "16          spotify  \n",
      "17        listening  \n",
      "18            great  \n",
      "19            music  \n"
     ]
    }
   ],
   "source": [
    "# Number of top terms to display per topic (10 most frequent words for each topic)\n",
    "n_top_terms = 20\n",
    "\n",
    "# Get the list of all words (terms) from the vectorizer's feature names\n",
    "terms = vectorizer.get_feature_names_out()\n",
    "\n",
    "# Create a dictionary to store the top terms for each topic\n",
    "topic_features = {}\n",
    "\n",
    "# Loop through each topic and find the top terms (words) for that topic\n",
    "for topic_idx, topic in enumerate(lda.components_):\n",
    "    # Sort the terms in the topic by their importance and pick the top 10\n",
    "    top_terms = [terms[i] for i in topic.argsort()[-n_top_terms:]]\n",
    "    topic_features[f\"Topic {topic_idx + 1}\"] = top_terms\n",
    "\n",
    "# Convert the topic features dictionary into a DataFrame for easier viewing\n",
    "topic_df = pd.DataFrame(dict([(k, pd.Series(v)) for k, v in topic_features.items()]))\n",
    "\n",
    "# Display the top words for each topic\n",
    "print(\"Top words per topic:\")\n",
    "print(topic_df)"
   ]
  },
  {
   "cell_type": "code",
   "execution_count": 98,
   "metadata": {
    "colab": {
     "base_uri": "https://localhost:8080/"
    },
    "id": "MUYWWLw_6TY5",
    "outputId": "7b0e90d0-6003-416f-da31-ea62de92f5f4"
   },
   "outputs": [
    {
     "ename": "IndentationError",
     "evalue": "unexpected indent (1997301025.py, line 18)",
     "output_type": "error",
     "traceback": [
      "\u001b[0;36m  Cell \u001b[0;32mIn[98], line 18\u001b[0;36m\u001b[0m\n\u001b[0;31m    sentiment_ranked = negative_topic_score_df.sort_values(by='sentiment_score', ascending=True)\u001b[0m\n\u001b[0m    ^\u001b[0m\n\u001b[0;31mIndentationError\u001b[0m\u001b[0;31m:\u001b[0m unexpected indent\n"
     ]
    }
   ],
   "source": [
    "# Assuming `topics` is the topic distribution matrix (topics x documents)\n",
    "# and `data['sentiment_score']` contains sentiment scores for each review\n",
    "\n",
    "# Aggregate sentiment scores for each topic by multiplying the topic distribution matrix with sentiment scores of each review\n",
    "topic_sentiment_scores = np.dot(topics.T, data['sentiment_score'])\n",
    "\n",
    "# Get the frequency of each topic across all reviews\n",
    "topic_frequencies = topics.sum(axis=0)\n",
    "\n",
    "# Create a DataFrame to store topic scores, frequency, and sentiment scores for easy comparison\n",
    "topic_score_df = pd.DataFrame({\n",
    "    'topic': [f'Topic {i+1}' for i in range(len(topic_sentiment_scores))],\n",
    "    'sentiment_score': topic_sentiment_scores,\n",
    "    'frequency': topic_frequencies\n",
    "})\n",
    "\n",
    "# Sort topics by sentiment score (from most negative to least negative)\n",
    " sentiment_ranked = negative_topic_score_df.sort_values(by='sentiment_score', ascending=True)\n",
    " #freq_ranked = negative_topic_score_df_sorted_by_sentiment = sentiment_ranked.sort_values(by='frequency', ascending=True)\n",
    "# Display the most negative topics (lowest sentiment score)\n",
    "print(\"Most Negative Topics:\")\n",
    "print(negative_topic_score_df_sorted_by_sentiment[['topic', 'sentiment_score', 'frequency']].head(10))\n"
   ]
  },
  {
   "cell_type": "code",
   "execution_count": 88,
   "metadata": {
    "id": "bbTHQMEW69fy"
   },
   "outputs": [
    {
     "name": "stdout",
     "output_type": "stream",
     "text": [
      "Predicted Label\n",
      "Issues with playing music when closing app               8451\n",
      "App Crashes and Stability Problems                       3146\n",
      "Playlist and Download Management                         2267\n",
      "Issues with music pausing/suddenly stopping              2171\n",
      "Ads and Ad-Free Experience                               2000\n",
      "Connectivity and Podcast Issues                          1779\n",
      "Issues with playlist and shuffle                         1760\n",
      "Login Issues                                              977\n",
      "Free vs Premium App Experience                            948\n",
      "Issues when connecting to different devices/platforms     501\n",
      "Name: count, dtype: int64\n"
     ]
    }
   ],
   "source": [
    "import pandas as pd\n",
    "from sentence_transformers import SentenceTransformer, util\n",
    "\n",
    "# Manually assign labels for the topics (negative reviews)\n",
    "topic_labels = {\n",
    "    'Topic 13': \"Issues with music pausing/suddenly stopping\",\n",
    "    'Topic 3': \"Login Issues\",\n",
    "    'Topic 8': \"Issues with playlist and shuffle\",\n",
    "    'Topic 4': \"Issues with playing music when closing app\",\n",
    "    'Topic 19': \"Issues when connecting to different devices/platforms\",\n",
    "    'Topic 1': \"App Crashes and Stability Problems\",\n",
    "    'Topic 18': \"Connectivity and Podcast Issues\",\n",
    "    'Topic 7': \"Ads and Ad-Free Experience\",\n",
    "    'Topic 11': \"Playlist and Download Management\",\n",
    "    'Topic 6': \"Free vs Premium App Experience\"\n",
    "}\n",
    "\n",
    "\n",
    "candidate_labels = [\n",
    "    'Issues with music pausing/suddenly stopping',\n",
    "    'Login Issues',\n",
    "    'Issues with playlist and shuffle',\n",
    "    'Issues with playing music when closing app',\n",
    "    'Issues when connecting to different devices/platforms',\n",
    "    'App Crashes and Stability Problems',\n",
    "    'Connectivity and Podcast Issues',\n",
    "    'Ads and Ad-Free Experience',\n",
    "    'Playlist and Download Management',\n",
    "    'Free vs Premium App Experience'\n",
    "]\n",
    "\n",
    "\n",
    "# Load the Sentence-Transformer model\n",
    "model = SentenceTransformer('paraphrase-MiniLM-L6-v2')\n",
    "\n",
    "# Select a smaller subset for faster testing (negative reviews with low ratings, e.g., 1 or 2)\n",
    "negative_reviews_subset = data[data['Rating'].isin([1, 2])]['Review_clean'].sample(n=24000, random_state=42).tolist()\n",
    "\n",
    "# Function to classify each review using Sentence-Transformer embeddings (Batch Processing)\n",
    "def classify_reviews_batch(reviews, candidate_labels, model, batch_size=32):\n",
    "    # Generate embeddings for all candidate labels (just once, not per review)\n",
    "    label_embeddings = model.encode(candidate_labels, convert_to_tensor=True)\n",
    "    \n",
    "    # Process reviews in batches\n",
    "    all_classified_reviews = []\n",
    "    \n",
    "    for i in range(0, len(reviews), batch_size):\n",
    "        batch_reviews = reviews[i:i+batch_size]\n",
    "        \n",
    "        # Generate embeddings for the batch of reviews\n",
    "        review_embeddings = model.encode(batch_reviews, convert_to_tensor=True)\n",
    "        \n",
    "        # Calculate cosine similarities in batch\n",
    "        cosine_similarities = util.pytorch_cos_sim(review_embeddings, label_embeddings)\n",
    "        \n",
    "        # Process each review in the batch\n",
    "        for j, review in enumerate(batch_reviews):\n",
    "            similarities = cosine_similarities[j]\n",
    "            max_sim_idx = similarities.argmax()\n",
    "            predicted_label = candidate_labels[max_sim_idx]\n",
    "            score = similarities[max_sim_idx].item()  # Extract the scalar value from tensor\n",
    "            \n",
    "            all_classified_reviews.append({\n",
    "                'Review': review,\n",
    "                'Predicted Label': predicted_label,\n",
    "                'Score': score\n",
    "            })\n",
    "    \n",
    "    return all_classified_reviews\n",
    "\n",
    "# Classify the reviews in batches\n",
    "classified_reviews = classify_reviews_batch(negative_reviews_subset, candidate_labels, model)\n",
    "\n",
    "# Create DataFrame with results\n",
    "classified_reviews_df = pd.DataFrame(classified_reviews)\n",
    "\n",
    "# Get the counts per label\n",
    "label_counts = classified_reviews_df['Predicted Label'].value_counts()\n",
    "\n",
    "print(label_counts)"
   ]
  },
  {
   "cell_type": "code",
   "execution_count": 94,
   "metadata": {},
   "outputs": [
    {
     "name": "stdout",
     "output_type": "stream",
     "text": [
      "Kendall's Tau: 0.0556\n"
     ]
    }
   ],
   "source": [
    "# Predicted order of topics (from your predicted ranking)\n",
    "predicted_order = [\n",
    "    'Topic 13', 'Topic 3', 'Topic 8', 'Topic 4', 'Topic 19',\n",
    "    'Topic 1', 'Topic 18', 'Topic 7', 'Topic 11', 'Topic 6'\n",
    "]\n",
    "\n",
    "# Ground truth order of topics (from the actual label ranking you provided)\n",
    "ground_truth_order = [\n",
    "    'Topic 4', 'Topic 1', 'Topic 11', 'Topic 13', 'Topic 7', 'Topic 18', 'Topic 8', 'Topic 3', 'Topic 6'\n",
    "]\n",
    "\n",
    "# Create a rank mapping for both predicted and ground truth orders\n",
    "predicted_ranks = [predicted_order.index(topic) for topic in ground_truth_order]\n",
    "ground_truth_ranks = list(range(len(ground_truth_order)))\n",
    "\n",
    "# Calculate Spearman's Rank Correlation\n",
    "spearman_corr, _ = spearmanr(predicted_ranks, ground_truth_ranks)\n",
    "\n",
    "# Calculate Kendall's Tau\n",
    "kendall_corr, _ = kendalltau(predicted_ranks, ground_truth_ranks)\n",
    "\n",
    "# Display the results\n",
    "print(f\"Kendall's Tau: {kendall_corr:.4f}\")"
   ]
  },
  {
   "cell_type": "code",
   "execution_count": null,
   "metadata": {},
   "outputs": [],
   "source": []
  }
 ],
 "metadata": {
  "colab": {
   "provenance": []
  },
  "kernelspec": {
   "display_name": "Python 3 (ipykernel)",
   "language": "python",
   "name": "python3"
  },
  "language_info": {
   "codemirror_mode": {
    "name": "ipython",
    "version": 3
   },
   "file_extension": ".py",
   "mimetype": "text/x-python",
   "name": "python",
   "nbconvert_exporter": "python",
   "pygments_lexer": "ipython3",
   "version": "3.12.6"
  }
 },
 "nbformat": 4,
 "nbformat_minor": 4
}
