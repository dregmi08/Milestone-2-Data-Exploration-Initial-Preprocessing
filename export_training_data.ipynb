{
 "cells": [
  {
   "cell_type": "code",
   "execution_count": 1,
   "metadata": {},
   "outputs": [],
   "source": [
    "import pandas as pd"
   ]
  },
  {
   "cell_type": "code",
   "execution_count": 2,
   "metadata": {},
   "outputs": [
    {
     "data": {
      "text/html": [
       "<div>\n",
       "<style scoped>\n",
       "    .dataframe tbody tr th:only-of-type {\n",
       "        vertical-align: middle;\n",
       "    }\n",
       "\n",
       "    .dataframe tbody tr th {\n",
       "        vertical-align: top;\n",
       "    }\n",
       "\n",
       "    .dataframe thead th {\n",
       "        text-align: right;\n",
       "    }\n",
       "</style>\n",
       "<table border=\"1\" class=\"dataframe\">\n",
       "  <thead>\n",
       "    <tr style=\"text-align: right;\">\n",
       "      <th></th>\n",
       "      <th>Time_submitted</th>\n",
       "      <th>Review</th>\n",
       "      <th>Rating</th>\n",
       "      <th>Total_thumbsup</th>\n",
       "      <th>Reply</th>\n",
       "    </tr>\n",
       "  </thead>\n",
       "  <tbody>\n",
       "    <tr>\n",
       "      <th>0</th>\n",
       "      <td>2022-07-09 15:00:00</td>\n",
       "      <td>Great music service, the audio is high quality...</td>\n",
       "      <td>5</td>\n",
       "      <td>2</td>\n",
       "      <td>NaN</td>\n",
       "    </tr>\n",
       "    <tr>\n",
       "      <th>1</th>\n",
       "      <td>2022-07-09 14:21:22</td>\n",
       "      <td>Please ignore previous negative rating. This a...</td>\n",
       "      <td>5</td>\n",
       "      <td>1</td>\n",
       "      <td>NaN</td>\n",
       "    </tr>\n",
       "    <tr>\n",
       "      <th>2</th>\n",
       "      <td>2022-07-09 13:27:32</td>\n",
       "      <td>This pop-up \"Get the best Spotify experience o...</td>\n",
       "      <td>4</td>\n",
       "      <td>0</td>\n",
       "      <td>NaN</td>\n",
       "    </tr>\n",
       "    <tr>\n",
       "      <th>3</th>\n",
       "      <td>2022-07-09 13:26:45</td>\n",
       "      <td>Really buggy and terrible to use as of recently</td>\n",
       "      <td>1</td>\n",
       "      <td>1</td>\n",
       "      <td>NaN</td>\n",
       "    </tr>\n",
       "    <tr>\n",
       "      <th>4</th>\n",
       "      <td>2022-07-09 13:20:49</td>\n",
       "      <td>Dear Spotify why do I get songs that I didn't ...</td>\n",
       "      <td>1</td>\n",
       "      <td>1</td>\n",
       "      <td>NaN</td>\n",
       "    </tr>\n",
       "    <tr>\n",
       "      <th>...</th>\n",
       "      <td>...</td>\n",
       "      <td>...</td>\n",
       "      <td>...</td>\n",
       "      <td>...</td>\n",
       "      <td>...</td>\n",
       "    </tr>\n",
       "    <tr>\n",
       "      <th>61589</th>\n",
       "      <td>2022-01-01 03:01:29</td>\n",
       "      <td>Even though it was communicated that lyrics fe...</td>\n",
       "      <td>1</td>\n",
       "      <td>6</td>\n",
       "      <td>NaN</td>\n",
       "    </tr>\n",
       "    <tr>\n",
       "      <th>61590</th>\n",
       "      <td>2022-01-01 02:13:40</td>\n",
       "      <td>Use to be sooo good back when I had it, and wh...</td>\n",
       "      <td>1</td>\n",
       "      <td>0</td>\n",
       "      <td>NaN</td>\n",
       "    </tr>\n",
       "    <tr>\n",
       "      <th>61591</th>\n",
       "      <td>2022-01-01 01:02:29</td>\n",
       "      <td>This app would be good if not for it taking ov...</td>\n",
       "      <td>2</td>\n",
       "      <td>10</td>\n",
       "      <td>NaN</td>\n",
       "    </tr>\n",
       "    <tr>\n",
       "      <th>61592</th>\n",
       "      <td>2022-01-01 00:49:23</td>\n",
       "      <td>The app is good hard to navigate and won't jus...</td>\n",
       "      <td>2</td>\n",
       "      <td>1</td>\n",
       "      <td>NaN</td>\n",
       "    </tr>\n",
       "    <tr>\n",
       "      <th>61593</th>\n",
       "      <td>2022-01-01 00:19:09</td>\n",
       "      <td>Its good but sometimes it doesnt load the musi...</td>\n",
       "      <td>4</td>\n",
       "      <td>0</td>\n",
       "      <td>NaN</td>\n",
       "    </tr>\n",
       "  </tbody>\n",
       "</table>\n",
       "<p>61594 rows × 5 columns</p>\n",
       "</div>"
      ],
      "text/plain": [
       "            Time_submitted                                             Review  \\\n",
       "0      2022-07-09 15:00:00  Great music service, the audio is high quality...   \n",
       "1      2022-07-09 14:21:22  Please ignore previous negative rating. This a...   \n",
       "2      2022-07-09 13:27:32  This pop-up \"Get the best Spotify experience o...   \n",
       "3      2022-07-09 13:26:45    Really buggy and terrible to use as of recently   \n",
       "4      2022-07-09 13:20:49  Dear Spotify why do I get songs that I didn't ...   \n",
       "...                    ...                                                ...   \n",
       "61589  2022-01-01 03:01:29  Even though it was communicated that lyrics fe...   \n",
       "61590  2022-01-01 02:13:40  Use to be sooo good back when I had it, and wh...   \n",
       "61591  2022-01-01 01:02:29  This app would be good if not for it taking ov...   \n",
       "61592  2022-01-01 00:49:23  The app is good hard to navigate and won't jus...   \n",
       "61593  2022-01-01 00:19:09  Its good but sometimes it doesnt load the musi...   \n",
       "\n",
       "       Rating  Total_thumbsup Reply  \n",
       "0           5               2   NaN  \n",
       "1           5               1   NaN  \n",
       "2           4               0   NaN  \n",
       "3           1               1   NaN  \n",
       "4           1               1   NaN  \n",
       "...       ...             ...   ...  \n",
       "61589       1               6   NaN  \n",
       "61590       1               0   NaN  \n",
       "61591       2              10   NaN  \n",
       "61592       2               1   NaN  \n",
       "61593       4               0   NaN  \n",
       "\n",
       "[61594 rows x 5 columns]"
      ]
     },
     "execution_count": 2,
     "metadata": {},
     "output_type": "execute_result"
    }
   ],
   "source": [
    "df = pd.read_csv(\"reviews.csv\")\n",
    "df"
   ]
  },
  {
   "cell_type": "code",
   "execution_count": 8,
   "metadata": {},
   "outputs": [],
   "source": [
    "negative_only = df[df[\"Rating\"] < 3]\n",
    "sampled = negative_only.sample(n=600, replace=False)\n",
    "sampled.to_csv(\"training_data.csv\", index=True)"
   ]
  },
  {
   "cell_type": "code",
   "execution_count": 6,
   "metadata": {},
   "outputs": [
    {
     "data": {
      "text/plain": [
       "Rating\n",
       "1    417\n",
       "2    183\n",
       "Name: count, dtype: int64"
      ]
     },
     "execution_count": 6,
     "metadata": {},
     "output_type": "execute_result"
    }
   ],
   "source": [
    "sampled[\"Rating\"].value_counts()"
   ]
  },
  {
   "cell_type": "code",
   "execution_count": null,
   "metadata": {},
   "outputs": [],
   "source": []
  }
 ],
 "metadata": {
  "kernelspec": {
   "display_name": "Python 3",
   "language": "python",
   "name": "python3"
  },
  "language_info": {
   "codemirror_mode": {
    "name": "ipython",
    "version": 3
   },
   "file_extension": ".py",
   "mimetype": "text/x-python",
   "name": "python",
   "nbconvert_exporter": "python",
   "pygments_lexer": "ipython3",
   "version": "3.10.6"
  }
 },
 "nbformat": 4,
 "nbformat_minor": 2
}
